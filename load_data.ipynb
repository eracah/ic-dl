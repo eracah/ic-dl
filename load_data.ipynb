{
 "cells": [
  {
   "cell_type": "code",
   "execution_count": 4,
   "metadata": {
    "collapsed": false
   },
   "outputs": [],
   "source": [
    "import numpy as np\n",
    "import h5py\n",
    "from nbfinder import NotebookFinder\n",
    "import sys\n",
    "sys.meta_path.append(NotebookFinder())\n",
    "from util import add_pulse_to_inp_tensor, get_nonempty_pulses, total_doms, total_height, total_width, get_pulse_array"
   ]
  },
  {
   "cell_type": "code",
   "execution_count": 7,
   "metadata": {
    "collapsed": true
   },
   "outputs": [],
   "source": [
    "def make_dataset(filename, sig_or_bg):\n",
    "    hf = h5py.File(filename)\n",
    "    pulse_array_keys = get_nonempty_pulses(hf)\n",
    "    num_events = len(pulse_array_keys)\n",
    "    \n",
    "    \n",
    "    tens = np.zeros((num_events, total_doms,total_height, total_width))\n",
    "    \n",
    "    \n",
    "    for ex_num, pulse_array_key in enumerate(pulse_array_keys):\n",
    "        pulse_array = get_pulse_array(hf, pulse_array_key)\n",
    "        add_pulse_to_inp_tensor(tens, ex_num, pulse_array)\n",
    "        \n",
    "    lbls = np.ones((num_events,)) if sig_or_bg == \"sig\" else np.zeros((num_events,))\n",
    "    \n",
    "    return tens, lbls\n",
    "        \n",
    "    \n",
    "    \n",
    "    \n",
    "\n",
    "def get_data(sig_filename_list, bg_filename_list):\n",
    "    x, y = make_dataset(sig_filename_list[0], \"sig\")\n",
    "    for fn in sig_filename_list[1:]:\n",
    "        xs,ys = make_dataset(fn, \"sig\")\n",
    "        x = np.vstack((x,xs))\n",
    "        y = np.concatenate((y,ys))\n",
    "    for fn in bg_filename_list:\n",
    "        xb,yb = make_dataset(fn, \"bg\")\n",
    "        x = np.vstack((x,xb))\n",
    "        y = np.concatenate((y,yb))\n",
    "    \n",
    "    return x,y\n",
    "        "
   ]
  },
  {
   "cell_type": "code",
   "execution_count": 8,
   "metadata": {
    "collapsed": false
   },
   "outputs": [],
   "source": [
    "     \n",
    "\n",
    "if __name__ == \"__main__\":\n",
    "    sig_list = [\"Level2_nugen_numu_IC86.2012.011070.00000XX.hdf5\"]\n",
    "    bg_list = [\"Level2_IC86.2012_corsika.011057.00000XX.hdf5\"]\n",
    "    x,y = get_data(sig_list, bg_list)"
   ]
  },
  {
   "cell_type": "code",
   "execution_count": null,
   "metadata": {
    "collapsed": true
   },
   "outputs": [],
   "source": []
  }
 ],
 "metadata": {
  "anaconda-cloud": {},
  "kernelspec": {
   "display_name": "Python [Root]",
   "language": "python",
   "name": "Python [Root]"
  }
 },
 "nbformat": 4,
 "nbformat_minor": 0
}
